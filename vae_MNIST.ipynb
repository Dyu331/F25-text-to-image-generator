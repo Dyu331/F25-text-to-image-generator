{
 "cells": [
  {
   "cell_type": "markdown",
   "id": "de57c5c0",
   "metadata": {},
   "source": [
    "# Goal\n",
    "Build a simple VAE model based on the MNIST dataset.\n",
    "\n",
    "1. Install dependencies\n",
    "2. Select device"
   ]
  },
  {
   "cell_type": "code",
   "execution_count": null,
   "id": "7d9616ba",
   "metadata": {},
   "outputs": [],
   "source": [
    "# Import libraries\n",
    "\n",
    "import torch.utils.data\n",
    "from torch import nn, optim\n",
    "from torch.nn import functional as F\n",
    "from torchvision import datasets, transforms\n",
    "from torchvision.utils import save_image"
   ]
  },
  {
   "cell_type": "code",
   "execution_count": null,
   "id": "1f957906",
   "metadata": {},
   "outputs": [],
   "source": [
    "# Device selection\n",
    "\n",
    "if torch.cuda.is_available():\n",
    "    print(\"Using GPU\")\n",
    "    device = torch.device(\"cuda\")\n",
    "elif torch.backends.mps.is_available():\n",
    "    print(\"Using MPS\")\n",
    "    device = torch.device(\"mps\")\n",
    "else:\n",
    "    print(\"Using CPU\")\n",
    "    device = torch.device(\"cpu\")\n",
    "\n",
    "kwargs = {'num_workers': 1}\n",
    "if torch.cuda.is_available():\n",
    "    kwargs['pin_memory'] = True"
   ]
  },
  {
   "cell_type": "code",
   "execution_count": null,
   "id": "c934c013",
   "metadata": {},
   "outputs": [],
   "source": [
    "# Hyperparameters\n",
    "\n",
    "batch_size = 64\n",
    "latent_size = 32\n",
    "init_channels = 8\n",
    "epochs = 10"
   ]
  },
  {
   "cell_type": "code",
   "execution_count": null,
   "id": "cdd1e1e1",
   "metadata": {},
   "outputs": [],
   "source": [
    "# Download the MNIST dataset\n",
    "\n",
    "train_loader = torch.utils.data.DataLoader(\n",
    "    datasets.MNIST(\n",
    "        'data', train=True, download=True,\n",
    "        transform=transforms.ToTensor()),\n",
    "    batch_size=batch_size, shuffle=True, **kwargs)\n",
    "test_loader = torch.utils.data.DataLoader(\n",
    "    datasets.MNIST(\n",
    "        'data', train=False, transform=transforms.ToTensor()),\n",
    "    batch_size=batch_size, shuffle=False, **kwargs)"
   ]
  },
  {
   "cell_type": "code",
   "execution_count": null,
   "id": "90eef821",
   "metadata": {},
   "outputs": [],
   "source": [
    "class VAE(nn.Module):\n",
    "    def __init__(self, image_channels, init_channels, latent_size):\n",
    "        super(VAE, self).__init__()\n",
    "        \n",
    "        # encoder\n",
    "        self.encoder = nn.Sequential(\n",
    "            # TODO: Add your encoder layers here\n",
    "        )\n",
    "        \n",
    "        # FC layers to get mu and logvar\n",
    "        self.fc1 = nn.Linear(64, 128)\n",
    "        self.fc_mu = nn.Linear(128, latent_size)\n",
    "        self.fc_logvar = nn.Linear(128, latent_size)\n",
    "        self.fc2 = nn.Linear(latent_size, 64)\n",
    "        \n",
    "        # decoder\n",
    "        self.decoder = nn.Sequential(\n",
    "            # TODO: Add your decoder layers here\n",
    "        )\n",
    "    \n",
    "    def encode(self, x):\n",
    "        h = self.encoder(x)\n",
    "        h = h.view(h.size(0), -1)        \n",
    "        h_fc = F.relu(self.fc1(h))\n",
    "        mu = self.fc_mu(h_fc)\n",
    "        logvar = self.fc_logvar(h_fc)\n",
    "        return mu, logvar\n",
    "    \n",
    "    # mu: mean vector\n",
    "    # logvar: log variance vector\n",
    "    def reparameterize(self, mu, logvar):\n",
    "        # TODO: Define the reparameterization function\n",
    "        \n",
    "        return None  # Delete this line before you begin\n",
    "    \n",
    "    def decode(self, z):\n",
    "        h = F.relu(self.fc2(z))\n",
    "        h = h.view(-1, 64, 1, 1)\n",
    "        \n",
    "        return torch.sigmoid(self.decoder(h))\n",
    "\n",
    "    def forward(self, x):\n",
    "        mu, logvar = self.encode(x)\n",
    "        z = self.reparameterize(mu, logvar)\n",
    "        recon_x = self.decode(z)\n",
    "        return recon_x, mu, logvar"
   ]
  },
  {
   "cell_type": "code",
   "execution_count": null,
   "id": "9dc6b672",
   "metadata": {},
   "outputs": [],
   "source": [
    "# recon_x: reconstructed images\n",
    "# x: original input images\n",
    "# mu: mean vector\n",
    "# logvar: log variance vector\n",
    "def loss_function(recon_x, x, mu, logvar):\n",
    "    # TODO: Define the reconstruction loss(binary cross entropy) term and KL divergence term\n",
    "    \n",
    "    return None     # Delete this line before you begin"
   ]
  },
  {
   "cell_type": "code",
   "execution_count": null,
   "id": "9d5c2113",
   "metadata": {},
   "outputs": [],
   "source": [
    "# Train and Test functions\n",
    "def train(model, optimizer, epoch, losses):\n",
    "    model.train()\n",
    "    train_loss = 0\n",
    "    for batch_idx, (data, _) in enumerate(train_loader):\n",
    "        data = data.to(device)\n",
    "        recon_batch, mu, logvar = model(data)\n",
    "        optimizer.zero_grad()\n",
    "        loss = loss_function(recon_batch, data, mu, logvar)\n",
    "        loss.backward()\n",
    "        train_loss += loss.detach().cpu().numpy()\n",
    "        optimizer.step()\n",
    "        if batch_idx % 20 == 0:\n",
    "            print('Train Epoch: {} [{}/{} ({:.0f}%)]\\tLoss: {:.6f}'.format(\n",
    "                epoch, batch_idx * len(data), len(train_loader.dataset),\n",
    "                100. * batch_idx / len(train_loader),\n",
    "                loss.item() / len(data)))\n",
    "    \n",
    "    losses.append(train_loss / len(train_loader.dataset))\n",
    "    print('====> Epoch: {} Average loss: {:.4f}'.format(\n",
    "          epoch, train_loss / len(train_loader.dataset)))\n",
    "\n",
    "def test(model, epoch, losses):\n",
    "    model.eval()\n",
    "    test_loss = 0\n",
    "    with torch.no_grad():\n",
    "        for i, (data, _) in enumerate(test_loader):\n",
    "            data = data.to(device)\n",
    "            recon_batch, mu, logvar = model(data)\n",
    "            test_loss += loss_function(recon_batch, data, mu, logvar).detach().cpu().numpy()\n",
    "            if i == 0:\n",
    "                n = min(data.size(0), 5)\n",
    "                comparison = torch.cat([data[:n],\n",
    "                                      recon_batch.view(-1, 1, 28, 28)[:n]])\n",
    "                save_image(comparison.cpu(),\n",
    "                         'reconstruction_' + str(f\"{epoch:02}\") + '.png', nrow=n)\n",
    "\n",
    "    losses.append(test_loss / len(test_loader.dataset))\n",
    "    test_loss /= len(test_loader.dataset)\n",
    "    print('====> Test set loss: {:.4f}'.format(test_loss))"
   ]
  },
  {
   "cell_type": "code",
   "execution_count": null,
   "id": "67ec24fe",
   "metadata": {},
   "outputs": [],
   "source": [
    "# Run the training and testing 1, 8, 32, 10\n",
    "model = VAE(1, 8, 32, 10).to(device)\n",
    "optimizer = optim.Adam(model.parameters(), lr=1e-3)\n",
    "\n",
    "train_losses = []\n",
    "test_losses = []\n",
    "\n",
    "for epoch in range(1, epochs + 1):\n",
    "    train(model, optimizer, epoch, train_losses)\n",
    "    test(model, epoch, test_losses)\n",
    "    with torch.no_grad():\n",
    "        c = torch.eye(10, 10).to(device)  # One-hot encoding for labels \n",
    "        sample = torch.randn(10, latent_size).to(device)\n",
    "        sample = model.decode(sample, c).cpu()\n",
    "        save_image(sample.view(10, 1, 28, 28), str(f\"sample_{epoch:02}.png\"))"
   ]
  },
  {
   "cell_type": "code",
   "execution_count": null,
   "id": "4025e06f",
   "metadata": {},
   "outputs": [],
   "source": [
    "# Visualize the training and test losses\n",
    "import matplotlib.pyplot as plt\n",
    "print(train_losses)\n",
    "print(test_losses)\n",
    "plt.plot(train_losses, label='Train Loss')\n",
    "plt.plot(test_losses, label='Test Loss')\n",
    "plt.xlabel('Epochs')\n",
    "plt.ylabel('Loss')\n",
    "plt.title('Training and Test Losses')\n",
    "plt.grid()\n",
    "plt.legend()\n",
    "plt.show()"
   ]
  },
  {
   "cell_type": "code",
   "execution_count": null,
   "id": "856ce2b1",
   "metadata": {},
   "outputs": [],
   "source": [
    "# Save the model\n",
    "import torchvision.models as models\n",
    "\n",
    "torch.save(model.state_dict(), 'vae_model_mnist.pth' )"
   ]
  },
  {
   "cell_type": "code",
   "execution_count": null,
   "id": "22c8c7ab",
   "metadata": {},
   "outputs": [],
   "source": [
    "# Load the model\n",
    "\n",
    "model = VAE(image_channels=1, init_channels=init_channels, latent_size=latent_size).to(device)\n",
    "model.load_state_dict(torch.load('vae_model_mnist.pth'))"
   ]
  },
  {
   "cell_type": "code",
   "execution_count": null,
   "id": "f0dcbe5d",
   "metadata": {},
   "outputs": [],
   "source": [
    "# Test the model\n",
    "\n",
    "def generate_digit(model, num_samples=1):\n",
    "    model.eval()\n",
    "    with torch.no_grad():\n",
    "        sample = torch.randn(num_samples, latent_size).to(device)\n",
    "        sample = model.decode(sample).to(device)\n",
    "        \n",
    "        save_image(sample.view(num_samples, 1, 28, 28), f\"generated_sample.png\")\n",
    "\n",
    "generate_digit(model, num_samples=10)"
   ]
  },
  {
   "cell_type": "code",
   "execution_count": null,
   "id": "dbc457cd",
   "metadata": {},
   "outputs": [],
   "source": []
  }
 ],
 "metadata": {
  "kernelspec": {
   "display_name": "venv",
   "language": "python",
   "name": "python3"
  },
  "language_info": {
   "codemirror_mode": {
    "name": "ipython",
    "version": 3
   },
   "file_extension": ".py",
   "mimetype": "text/x-python",
   "name": "python",
   "nbconvert_exporter": "python",
   "pygments_lexer": "ipython3",
   "version": "3.13.7"
  }
 },
 "nbformat": 4,
 "nbformat_minor": 5
}
